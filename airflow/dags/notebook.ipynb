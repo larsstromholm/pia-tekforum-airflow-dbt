{
 "cells": [
  {
   "cell_type": "markdown",
   "metadata": {},
   "source": [
    "# dlt\n",
    "\n",
    "## Manually"
   ]
  },
  {
   "cell_type": "code",
   "execution_count": 2,
   "metadata": {},
   "outputs": [],
   "source": [
    "import dlt\n",
    "from utils.settings import settings\n",
    "from extract.rest_api import rest_api_source\n",
    "\n",
    "postgres_destination = dlt.destinations.postgres(settings.postgres_dsn)\n",
    "nobel_source = rest_api_source(\n",
    "    {\n",
    "        \"client\": {\n",
    "            \"base_url\": \"https://api.nobelprize.org/2.1/\",\n",
    "            \"paginator\": {\n",
    "                \"type\": \"json_response\",\n",
    "                \"next_url_path\": \"paging.next\",\n",
    "            },\n",
    "        },\n",
    "        \"resources\": [\"laureates\", \"nobelPrizes\"],\n",
    "    }\n",
    ")\n",
    "pipeline = dlt.pipeline(\n",
    "    pipeline_name=\"nobel\",\n",
    "    destination=postgres_destination,\n",
    "    dataset_name=\"nobel\",\n",
    "    dev_mode=False,\n",
    ")\n",
    "load_info = pipeline.run(nobel_source)\n",
    "\n",
    "print(load_info)"
   ]
  },
  {
   "cell_type": "markdown",
   "metadata": {},
   "source": [
    "## Using the module"
   ]
  },
  {
   "cell_type": "code",
   "execution_count": 1,
   "metadata": {},
   "outputs": [
    {
     "ename": "ModuleNotFoundError",
     "evalue": "No module named 'extract'",
     "output_type": "error",
     "traceback": [
      "\u001b[0;31m---------------------------------------------------------------------------\u001b[0m",
      "\u001b[0;31mModuleNotFoundError\u001b[0m                       Traceback (most recent call last)",
      "Cell \u001b[0;32mIn[1], line 1\u001b[0m\n\u001b[0;32m----> 1\u001b[0m \u001b[38;5;28;01mfrom\u001b[39;00m \u001b[38;5;21;01mextract\u001b[39;00m\u001b[38;5;21;01m.\u001b[39;00m\u001b[38;5;21;01mdestination\u001b[39;00m \u001b[38;5;28;01mimport\u001b[39;00m postgres_destination\n\u001b[1;32m      2\u001b[0m \u001b[38;5;28;01mfrom\u001b[39;00m \u001b[38;5;21;01mextract\u001b[39;00m\u001b[38;5;21;01m.\u001b[39;00m\u001b[38;5;21;01mnobel\u001b[39;00m \u001b[38;5;28;01mimport\u001b[39;00m nobel_pipeline, nobel_source\n\u001b[1;32m      4\u001b[0m pipeline \u001b[38;5;241m=\u001b[39m nobel_pipeline(postgres_destination)\n",
      "\u001b[0;31mModuleNotFoundError\u001b[0m: No module named 'extract'"
     ]
    }
   ],
   "source": [
    "\n",
    "from extract.destination import postgres_destination\n",
    "from extract.nobel import nobel_pipeline, nobel_source\n",
    "\n",
    "pipeline = nobel_pipeline(postgres_destination)\n",
    "load_info = pipeline.run(nobel_source)\n",
    "\n",
    "print(load_info)"
   ]
  }
 ],
 "metadata": {
  "kernelspec": {
   "display_name": ".venv",
   "language": "python",
   "name": "python3"
  },
  "language_info": {
   "codemirror_mode": {
    "name": "ipython",
    "version": 3
   },
   "file_extension": ".py",
   "mimetype": "text/x-python",
   "name": "python",
   "nbconvert_exporter": "python",
   "pygments_lexer": "ipython3",
   "version": "3.12.5"
  }
 },
 "nbformat": 4,
 "nbformat_minor": 2
}
