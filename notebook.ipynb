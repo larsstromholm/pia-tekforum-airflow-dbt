{
 "cells": [
  {
   "cell_type": "code",
   "execution_count": 31,
   "metadata": {},
   "outputs": [],
   "source": [
    "import requests\n",
    "\n",
    "response = requests.get(\"https://data.norges-bank.no/api/data/EXR/B.USD.NOK.SP?format=sdmx-json&startPeriod=2024-01-01&endPeriod=2024-11-24&locale=no\")\n"
   ]
  },
  {
   "cell_type": "code",
   "execution_count": 36,
   "metadata": {},
   "outputs": [],
   "source": [
    "import pandas as pd\n",
    "\n",
    "data = response.json()\n",
    "\n",
    "# Extract series data\n",
    "series_data = data[\"data\"][\"dataSets\"][0][\"series\"]\n",
    "structure = data[\"data\"][\"structure\"][\"dimensions\"]\n",
    "\n",
    "# Extract dimensions and observation details\n",
    "base_cur = structure[\"series\"][1][\"values\"][0][\"id\"]\n",
    "quote_cur = structure[\"series\"][2][\"values\"][0][\"id\"]\n",
    "time_periods = structure[\"observation\"][0][\"values\"]\n",
    "observations = series_data[\"0:0:0:0\"][\"observations\"]\n",
    "\n",
    "# Prepare data for DataFrame\n",
    "records = []\n",
    "for obs_key, obs_value in observations.items():\n",
    "    time_period = time_periods[int(obs_key)][\"id\"]\n",
    "    exchange_rate = obs_value[0]\n",
    "    records.append({\n",
    "        \"time_period\": time_period,\n",
    "        \"base_currency\": base_cur,\n",
    "        \"quote_currency\": quote_cur,\n",
    "        \"exchange_rate\": float(exchange_rate)\n",
    "    })\n",
    "\n",
    "# Create DataFrame\n",
    "df = pd.DataFrame(records)"
   ]
  },
  {
   "cell_type": "code",
   "execution_count": 37,
   "metadata": {},
   "outputs": [
    {
     "data": {
      "text/html": [
       "<div>\n",
       "<style scoped>\n",
       "    .dataframe tbody tr th:only-of-type {\n",
       "        vertical-align: middle;\n",
       "    }\n",
       "\n",
       "    .dataframe tbody tr th {\n",
       "        vertical-align: top;\n",
       "    }\n",
       "\n",
       "    .dataframe thead th {\n",
       "        text-align: right;\n",
       "    }\n",
       "</style>\n",
       "<table border=\"1\" class=\"dataframe\">\n",
       "  <thead>\n",
       "    <tr style=\"text-align: right;\">\n",
       "      <th></th>\n",
       "      <th>time_period</th>\n",
       "      <th>base_currency</th>\n",
       "      <th>quote_currency</th>\n",
       "      <th>exchange_rate</th>\n",
       "    </tr>\n",
       "  </thead>\n",
       "  <tbody>\n",
       "    <tr>\n",
       "      <th>0</th>\n",
       "      <td>2024-01-02</td>\n",
       "      <td>USD</td>\n",
       "      <td>NOK</td>\n",
       "      <td>10.2971</td>\n",
       "    </tr>\n",
       "    <tr>\n",
       "      <th>1</th>\n",
       "      <td>2024-01-03</td>\n",
       "      <td>USD</td>\n",
       "      <td>NOK</td>\n",
       "      <td>10.3672</td>\n",
       "    </tr>\n",
       "    <tr>\n",
       "      <th>2</th>\n",
       "      <td>2024-01-04</td>\n",
       "      <td>USD</td>\n",
       "      <td>NOK</td>\n",
       "      <td>10.3027</td>\n",
       "    </tr>\n",
       "    <tr>\n",
       "      <th>3</th>\n",
       "      <td>2024-01-05</td>\n",
       "      <td>USD</td>\n",
       "      <td>NOK</td>\n",
       "      <td>10.3553</td>\n",
       "    </tr>\n",
       "    <tr>\n",
       "      <th>4</th>\n",
       "      <td>2024-01-08</td>\n",
       "      <td>USD</td>\n",
       "      <td>NOK</td>\n",
       "      <td>10.3800</td>\n",
       "    </tr>\n",
       "  </tbody>\n",
       "</table>\n",
       "</div>"
      ],
      "text/plain": [
       "  time_period base_currency quote_currency  exchange_rate\n",
       "0  2024-01-02           USD            NOK        10.2971\n",
       "1  2024-01-03           USD            NOK        10.3672\n",
       "2  2024-01-04           USD            NOK        10.3027\n",
       "3  2024-01-05           USD            NOK        10.3553\n",
       "4  2024-01-08           USD            NOK        10.3800"
      ]
     },
     "execution_count": 37,
     "metadata": {},
     "output_type": "execute_result"
    }
   ],
   "source": [
    "df.head()"
   ]
  },
  {
   "cell_type": "code",
   "execution_count": null,
   "metadata": {},
   "outputs": [],
   "source": []
  }
 ],
 "metadata": {
  "kernelspec": {
   "display_name": ".venv",
   "language": "python",
   "name": "python3"
  },
  "language_info": {
   "codemirror_mode": {
    "name": "ipython",
    "version": 3
   },
   "file_extension": ".py",
   "mimetype": "text/x-python",
   "name": "python",
   "nbconvert_exporter": "python",
   "pygments_lexer": "ipython3",
   "version": "3.12.7"
  }
 },
 "nbformat": 4,
 "nbformat_minor": 2
}
